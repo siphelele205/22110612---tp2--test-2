{
 "cells": [
  {
   "cell_type": "code",
   "execution_count": 1,
   "id": "eb3cab6b-22a7-4358-9d4a-ebdf89a591d8",
   "metadata": {},
   "outputs": [],
   "source": [
    "import pandas as pd\n",
    "\n",
    "# Load the dataset\n",
    "file_path = 'C:\\\\Users\\\\Mr Maziya\\\\Documents\\\\Dataset1.csv'\n",
    "data = pd.read_csv(file_path)"
   ]
  },
  {
   "cell_type": "code",
   "execution_count": 2,
   "id": "fcc16de8-5009-4ac5-9187-60321c805beb",
   "metadata": {},
   "outputs": [
    {
     "name": "stdout",
     "output_type": "stream",
     "text": [
      "Dataset shape: (45, 15)\n"
     ]
    }
   ],
   "source": [
    "# Get the size of the dataset\n",
    "print(f\"Dataset shape: {data.shape}\")"
   ]
  },
  {
   "cell_type": "code",
   "execution_count": 3,
   "id": "8b5a92d2-24b4-4642-917b-aa698f94931a",
   "metadata": {},
   "outputs": [
    {
     "name": "stdout",
     "output_type": "stream",
     "text": [
      "Settlement Name           object\n",
      "Location                  object\n",
      "Province                  object\n",
      "Latitude                 float64\n",
      "Longitude                float64\n",
      "Date of Establishment     object\n",
      "Initial Population         int64\n",
      "Current Population        object\n",
      "Sanitation                object\n",
      "Water Supply              object\n",
      "Electricity               object\n",
      "Health Issues             object\n",
      "Development Projects      object\n",
      "Project Status            object\n",
      "Funding Source            object\n",
      "dtype: object\n"
     ]
    }
   ],
   "source": [
    "# Display data types of each column\n",
    "print(data.dtypes)"
   ]
  },
  {
   "cell_type": "code",
   "execution_count": 4,
   "id": "41a1a893-82e0-4990-bfa3-5b7817758caa",
   "metadata": {},
   "outputs": [
    {
     "name": "stdout",
     "output_type": "stream",
     "text": [
      "Index(['Settlement Name', 'Location', 'Province', 'Latitude', 'Longitude',\n",
      "       'Date of Establishment', 'Initial Population', 'Current Population',\n",
      "       'Sanitation', 'Water Supply', 'Electricity', 'Health Issues',\n",
      "       'Development Projects', 'Project Status', 'Funding Source'],\n",
      "      dtype='object')\n"
     ]
    }
   ],
   "source": [
    "# Display column names\n",
    "print(data.columns)"
   ]
  },
  {
   "cell_type": "code",
   "execution_count": 5,
   "id": "90624227-6d86-4467-b06b-e54473e66df6",
   "metadata": {},
   "outputs": [
    {
     "name": "stdout",
     "output_type": "stream",
     "text": [
      "        Latitude  Longitude  Initial Population\n",
      "count  45.000000  45.000000                45.0\n",
      "mean  -29.574253  25.947387               100.0\n",
      "std     3.539681   4.889897                 0.0\n",
      "min   -34.131300  18.391100               100.0\n",
      "25%   -33.926800  18.700000               100.0\n",
      "50%   -29.836800  27.960700               100.0\n",
      "75%   -26.106700  29.064300               100.0\n",
      "max   -25.732200  31.045300               100.0\n"
     ]
    }
   ],
   "source": [
    "# Get summary statistics\n",
    "print(data.describe())"
   ]
  },
  {
   "cell_type": "code",
   "execution_count": 6,
   "id": "6cc77451-158a-49c8-8fd0-d0c915f7d831",
   "metadata": {},
   "outputs": [
    {
     "name": "stdout",
     "output_type": "stream",
     "text": [
      "                 Settlement Name      Location      Province  Latitude  \\\n",
      "0                    Khayelitsha     Cape Town  Western Cape  -34.0367   \n",
      "1                      Diepsloot  Johannesburg       Gauteng  -25.9399   \n",
      "2                      Alexandra  Johannesburg       Gauteng  -26.1067   \n",
      "3                 Joe Slovo Park     Cape Town  Western Cape  -33.9168   \n",
      "4  Barberton Informal Settlement     Barberton    Mpumalanga  -25.7868   \n",
      "\n",
      "   Longitude  \n",
      "0    18.6766  \n",
      "1    27.9607  \n",
      "2    28.1049  \n",
      "3    18.5216  \n",
      "4    31.0453  \n"
     ]
    }
   ],
   "source": [
    "# Display a sample of rows to understand data slicing and indexing\n",
    "print(data.iloc[:5, :5])  # Display first 5 rows and first 5 columns"
   ]
  },
  {
   "cell_type": "code",
   "execution_count": 7,
   "id": "41d42570-b313-4d0c-ab44-ed1a8db9830b",
   "metadata": {},
   "outputs": [
    {
     "name": "stdout",
     "output_type": "stream",
     "text": [
      "Settlement Name           0\n",
      "Location                  0\n",
      "Province                  0\n",
      "Latitude                  0\n",
      "Longitude                 0\n",
      "Date of Establishment     0\n",
      "Initial Population        0\n",
      "Current Population        0\n",
      "Sanitation               42\n",
      "Water Supply             37\n",
      "Electricity              40\n",
      "Health Issues             0\n",
      "Development Projects      1\n",
      "Project Status            1\n",
      "Funding Source            1\n",
      "dtype: int64\n",
      "Sanitation              42\n",
      "Water Supply            37\n",
      "Electricity             40\n",
      "Development Projects     1\n",
      "Project Status           1\n",
      "Funding Source           1\n",
      "dtype: int64\n"
     ]
    }
   ],
   "source": [
    "# Check for missing values\n",
    "missing_data = data.isnull().sum()\n",
    "print(missing_data)\n",
    "\n",
    "# Display columns with missing values\n",
    "missing_columns = missing_data[missing_data > 0]\n",
    "print(missing_columns)"
   ]
  },
  {
   "cell_type": "code",
   "execution_count": 8,
   "id": "c158e913-861b-40b1-bbb0-dd20d713d8c6",
   "metadata": {},
   "outputs": [
    {
     "name": "stdout",
     "output_type": "stream",
     "text": [
      "Numeric columns to normalize: ['Latitude', 'Longitude']\n",
      "   Latitude  Longitude\n",
      "0 -1.274937  -1.503702\n",
      "1  1.038348   0.416382\n",
      "2  0.990693   0.446204\n",
      "3 -1.240681  -1.535758\n",
      "4  1.082089   1.054321\n"
     ]
    }
   ],
   "source": [
    "from sklearn.preprocessing import StandardScaler\n",
    "\n",
    "# Select numerical columns for normalization\n",
    "numeric_columns = ['Latitude', 'Longitude']\n",
    "\n",
    "# Check if these columns exist in the dataset\n",
    "numeric_columns = [col for col in numeric_columns if col in data.columns]\n",
    "print(f\"Numeric columns to normalize: {numeric_columns}\")\n",
    "\n",
    "# Standardize the selected columns\n",
    "scaler = StandardScaler()\n",
    "data[numeric_columns] = scaler.fit_transform(data[numeric_columns])\n",
    "\n",
    "# Display the normalized data\n",
    "print(data[numeric_columns].head())"
   ]
  },
  {
   "cell_type": "markdown",
   "id": "89120aa7-c587-433f-a1db-e40ec37f013d",
   "metadata": {},
   "source": [
    "### Data Types in Relation to Machine Learning\n",
    "\n",
    "In the context of machine learning, the data types in our dataset can be categorized as follows:\n",
    "\n",
    "- **Numerical Data**:\n",
    "  - Columns like `Latitude` and `Longitude` are numerical and continuous. These are important for statistical analysis and for feeding into machine learning models.\n",
    "  - Example column: `Latitude` is standardized to have a mean of 0 and standard deviation of 1. This helps in improving the performance and training stability of many machine learning algorithms.\n",
    "\n",
    "Normalization or standardization is crucial for numerical data to ensure that each feature contributes equally to the model, preventing bias toward features with larger ranges.\n"
   ]
  },
  {
   "cell_type": "code",
   "execution_count": null,
   "id": "3a0b743a-2e3e-426e-b6ae-a1dc42c80752",
   "metadata": {},
   "outputs": [],
   "source": []
  }
 ],
 "metadata": {
  "kernelspec": {
   "display_name": "Python 3 (ipykernel)",
   "language": "python",
   "name": "python3"
  },
  "language_info": {
   "codemirror_mode": {
    "name": "ipython",
    "version": 3
   },
   "file_extension": ".py",
   "mimetype": "text/x-python",
   "name": "python",
   "nbconvert_exporter": "python",
   "pygments_lexer": "ipython3",
   "version": "3.12.3"
  }
 },
 "nbformat": 4,
 "nbformat_minor": 5
}
