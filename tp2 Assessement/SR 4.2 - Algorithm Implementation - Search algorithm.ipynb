{
 "cells": [
  {
   "cell_type": "markdown",
   "id": "7e0a8541-ffe5-41a6-a7ac-183720bf5a9f",
   "metadata": {},
   "source": [
    "## Performance Comparison: Linear Search vs Binary Search\n",
    "\n",
    "### Linear Search\n",
    "Linear search is a straightforward algorithm that checks each element in a list sequentially until the desired element is found or the list ends. Its time complexity is O(n), where n is the number of elements in the list. This means that in the worst case, the algorithm will have to check each element once.\n",
    "\n",
    "### Binary Search\n",
    "Binary search, on the other hand, is a more efficient algorithm that works on sorted lists. It repeatedly divides the search interval in half. If the value of the search key is less than the item in the middle of the interval, it narrows the interval to the lower half. Otherwise, it narrows it to the upper half. The time complexity of binary search is O(log n), where n is the number of elements in the list. This logarithmic time complexity makes binary search significantly faster than linear search for large datasets.\n",
    "\n",
    "### Conclusion\n",
    "Binary search performs faster than linear search due to its logarithmic time complexity. However, it requires the dataset to be sorted, which is an additional overhead if the data is not already sorted. For unsorted datasets or small datasets, linear search might be more practical despite its linear time complexity.\n"
   ]
  },
  {
   "cell_type": "code",
   "execution_count": 2,
   "id": "72eb5205-1524-4015-965b-dafad16b62a9",
   "metadata": {},
   "outputs": [],
   "source": [
    "# Import the pandas library\n",
    "import pandas as pd\n",
    "\n",
    "# Load dataset\n",
    "data = pd.read_csv('C:\\\\Users\\\\Mr Maziya\\\\Documents\\\\Dataset1.csv')"
   ]
  },
  {
   "cell_type": "code",
   "execution_count": 3,
   "id": "1fd9e5f8-f76e-4529-bcbf-30271eafd2fe",
   "metadata": {},
   "outputs": [
    {
     "name": "stdout",
     "output_type": "stream",
     "text": [
      "Linear Search Result: Index of 'Joe Slovo Park' is 3\n"
     ]
    }
   ],
   "source": [
    "# Linear Search Implementation\n",
    "def linear_search(dataset, column, value):\n",
    "    for index, element in enumerate(dataset[column]):\n",
    "        if element == value:\n",
    "            return index\n",
    "    return -1\n",
    "\n",
    "# Assume we are searching for a specific settlement name\n",
    "search_element = 'Joe Slovo Park'\n",
    "\n",
    "# Using Linear Search to find the settlement\n",
    "linear_result = linear_search(data, 'Settlement Name', search_element)\n",
    "print(f\"Linear Search Result: Index of '{search_element}' is {linear_result}\")"
   ]
  },
  {
   "cell_type": "code",
   "execution_count": 4,
   "id": "6bdc7ae8-6ff1-4666-a8ba-7e9e8e00dbc7",
   "metadata": {},
   "outputs": [
    {
     "name": "stdout",
     "output_type": "stream",
     "text": [
      "Binary Search Result: Index of 'Joe Slovo Park' is 15\n"
     ]
    }
   ],
   "source": [
    "# Binary Search Implementation\n",
    "def binary_search(dataset, column, value):\n",
    "    sorted_data = dataset.sort_values(by=column).reset_index(drop=True)\n",
    "    low = 0\n",
    "    high = len(sorted_data) - 1\n",
    "\n",
    "    while low <= high:\n",
    "        mid = (low + high) // 2\n",
    "        if sorted_data[column][mid] == value:\n",
    "            return mid\n",
    "        elif sorted_data[column][mid] < value:\n",
    "            low = mid + 1\n",
    "        else:\n",
    "            high = mid - 1\n",
    "\n",
    "    return -1\n",
    "\n",
    "# Using Binary Search to find the settlement (requires sorting)\n",
    "binary_result = binary_search(data, 'Settlement Name', search_element)\n",
    "print(f\"Binary Search Result: Index of '{search_element}' is {binary_result}\")"
   ]
  },
  {
   "cell_type": "code",
   "execution_count": null,
   "id": "74f590d8-ecee-40a9-b04f-334c3f35ea04",
   "metadata": {},
   "outputs": [],
   "source": []
  }
 ],
 "metadata": {
  "kernelspec": {
   "display_name": "Python 3 (ipykernel)",
   "language": "python",
   "name": "python3"
  },
  "language_info": {
   "codemirror_mode": {
    "name": "ipython",
    "version": 3
   },
   "file_extension": ".py",
   "mimetype": "text/x-python",
   "name": "python",
   "nbconvert_exporter": "python",
   "pygments_lexer": "ipython3",
   "version": "3.12.3"
  }
 },
 "nbformat": 4,
 "nbformat_minor": 5
}
