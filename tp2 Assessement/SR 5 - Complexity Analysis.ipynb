{
 "cells": [
  {
   "cell_type": "markdown",
   "id": "5121e331-0220-459c-9138-45657569bfd9",
   "metadata": {},
   "source": [
    "## Time and Space Complexity Analysis\n",
    "\n",
    "### Algorithm: Linear Search\n",
    "\n",
    "#### Time Complexity\n",
    "The linear search algorithm checks each element in the list sequentially until it finds the desired element or reaches the end of the list. \n",
    "\n",
    "- **Best Case**: O(1)\n",
    "  - This occurs when the element to be found is at the first position in the list.\n",
    "  \n",
    "- **Worst Case**: O(n)\n",
    "  - This occurs when the element is either at the last position or not present in the list at all. In this scenario, the algorithm must check all n elements.\n",
    "\n",
    "- **Average Case**: O(n)\n",
    "  - On average, the element being searched will be found halfway through the list, leading to a time complexity of O(n/2), which simplifies to O(n).\n",
    "\n",
    "#### Space Complexity\n",
    "The space complexity of the linear search algorithm is O(1) because it uses a constant amount of extra space regardless of the size of the input list. It only requires a few extra variables for the index and the element being compared.\n",
    "\n",
    "### Algorithm: Binary Search\n",
    "\n",
    "#### Time Complexity\n",
    "Binary search works on a sorted list and repeatedly divides the search interval in half.\n",
    "\n",
    "- **Best Case**: O(1)\n",
    "  - This occurs when the middle element of the list is the target element.\n",
    "\n",
    "- **Worst Case**: O(log n)\n",
    "  - This occurs when the algorithm must repeatedly divide the list in half until it reaches a single element. The number of divisions required is logarithmic with respect to the number of elements in the list.\n",
    "\n",
    "- **Average Case**: O(log n)\n",
    "  - On average, the time complexity is O(log n) because each step reduces the search interval by half.\n",
    "\n",
    "#### Space Complexity\n",
    "The space complexity of the binary search algorithm is O(1) because it uses a constant amount of extra space. It requires only a few extra variables for indices and the middle element.\n",
    "\n",
    "### Efficiency Comparison\n",
    "\n",
    "- **Time Complexity**:\n",
    "  - Linear search is less efficient than binary search for large datasets because it has a linear time complexity, O(n).\n",
    "  - Binary search is more efficient with a logarithmic time complexity, O(log n), but it requires the dataset to be sorted.\n",
    "\n",
    "- **Space Complexity**:\n",
    "  - Both algorithms are efficient in terms of space, with a space complexity of O(1).\n",
    "\n",
    "### Conclusion\n",
    "Binary search is generally more efficient in terms of time complexity, especially for large datasets, as long as the dataset is sorted. Linear search, while less efficient for large datasets, does not require the dataset to be sorted and is simpler to implement.\n"
   ]
  },
  {
   "cell_type": "code",
   "execution_count": null,
   "id": "d47f4bbe-29be-43ed-a94f-2bf9a50139c4",
   "metadata": {},
   "outputs": [],
   "source": []
  }
 ],
 "metadata": {
  "kernelspec": {
   "display_name": "Python 3 (ipykernel)",
   "language": "python",
   "name": "python3"
  },
  "language_info": {
   "codemirror_mode": {
    "name": "ipython",
    "version": 3
   },
   "file_extension": ".py",
   "mimetype": "text/x-python",
   "name": "python",
   "nbconvert_exporter": "python",
   "pygments_lexer": "ipython3",
   "version": "3.12.3"
  }
 },
 "nbformat": 4,
 "nbformat_minor": 5
}
